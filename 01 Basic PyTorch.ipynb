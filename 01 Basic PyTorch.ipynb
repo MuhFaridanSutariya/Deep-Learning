{
 "cells": [
  {
   "cell_type": "code",
   "execution_count": 2,
   "id": "ff0a0b0e",
   "metadata": {},
   "outputs": [],
   "source": [
    "import torch\n",
    "import numpy as np\n",
    "from luwiji.neural_network import illustration, demo"
   ]
  },
  {
   "cell_type": "markdown",
   "id": "0fa3d3b2",
   "metadata": {},
   "source": [
    "## Sample data"
   ]
  },
  {
   "cell_type": "code",
   "execution_count": 3,
   "id": "4343d52e",
   "metadata": {},
   "outputs": [
    {
     "data": {
      "text/plain": [
       "array([[[ 52,  72, 154, 174,  87],\n",
       "        [120, 238, 164, 188,   2],\n",
       "        [ 58,  68, 135, 201, 200],\n",
       "        [152,  64,  40, 172,  18],\n",
       "        [ 64, 187, 141,  60, 195]],\n",
       "\n",
       "       [[114,  32, 113, 199, 219],\n",
       "        [107, 170,  67,  80, 105],\n",
       "        [244,  15,  37, 163, 213],\n",
       "        [118, 130, 225, 156,  61],\n",
       "        [108, 177, 127, 135,  12]],\n",
       "\n",
       "       [[193,  51, 220, 150, 232],\n",
       "        [  1, 178, 174, 228, 237],\n",
       "        [ 44,  16, 219,  12, 142],\n",
       "        [188,  61,  34, 190, 189],\n",
       "        [221,   5, 245,   2,  91]]])"
      ]
     },
     "execution_count": 3,
     "metadata": {},
     "output_type": "execute_result"
    }
   ],
   "source": [
    "a = demo.example_data_1\n",
    "a"
   ]
  },
  {
   "cell_type": "markdown",
   "id": "ae70f152",
   "metadata": {},
   "source": [
    "## Tensor"
   ]
  },
  {
   "cell_type": "markdown",
   "id": "622e9330",
   "metadata": {},
   "source": [
    "#### Numpy (array), Pandas (Dataframe), Pytorch(Tensor)"
   ]
  },
  {
   "cell_type": "code",
   "execution_count": 4,
   "id": "ce75c588",
   "metadata": {},
   "outputs": [
    {
     "data": {
      "text/plain": [
       "tensor([[[ 52.,  72., 154., 174.,  87.],\n",
       "         [120., 238., 164., 188.,   2.],\n",
       "         [ 58.,  68., 135., 201., 200.],\n",
       "         [152.,  64.,  40., 172.,  18.],\n",
       "         [ 64., 187., 141.,  60., 195.]],\n",
       "\n",
       "        [[114.,  32., 113., 199., 219.],\n",
       "         [107., 170.,  67.,  80., 105.],\n",
       "         [244.,  15.,  37., 163., 213.],\n",
       "         [118., 130., 225., 156.,  61.],\n",
       "         [108., 177., 127., 135.,  12.]],\n",
       "\n",
       "        [[193.,  51., 220., 150., 232.],\n",
       "         [  1., 178., 174., 228., 237.],\n",
       "         [ 44.,  16., 219.,  12., 142.],\n",
       "         [188.,  61.,  34., 190., 189.],\n",
       "         [221.,   5., 245.,   2.,  91.]]])"
      ]
     },
     "execution_count": 4,
     "metadata": {},
     "output_type": "execute_result"
    }
   ],
   "source": [
    "# convert dari numpy array ke tensor pytorch agar dapat diolah\n",
    "torch.Tensor(a)"
   ]
  },
  {
   "cell_type": "code",
   "execution_count": 6,
   "id": "9e193ce2",
   "metadata": {},
   "outputs": [
    {
     "data": {
      "text/plain": [
       "tensor([[[ 52.,  72., 154., 174.,  87.],\n",
       "         [120., 238., 164., 188.,   2.],\n",
       "         [ 58.,  68., 135., 201., 200.],\n",
       "         [152.,  64.,  40., 172.,  18.],\n",
       "         [ 64., 187., 141.,  60., 195.]],\n",
       "\n",
       "        [[114.,  32., 113., 199., 219.],\n",
       "         [107., 170.,  67.,  80., 105.],\n",
       "         [244.,  15.,  37., 163., 213.],\n",
       "         [118., 130., 225., 156.,  61.],\n",
       "         [108., 177., 127., 135.,  12.]],\n",
       "\n",
       "        [[193.,  51., 220., 150., 232.],\n",
       "         [  1., 178., 174., 228., 237.],\n",
       "         [ 44.,  16., 219.,  12., 142.],\n",
       "         [188.,  61.,  34., 190., 189.],\n",
       "         [221.,   5., 245.,   2.,  91.]]])"
      ]
     },
     "execution_count": 6,
     "metadata": {},
     "output_type": "execute_result"
    }
   ],
   "source": [
    "torch.FloatTensor(a)"
   ]
  },
  {
   "cell_type": "code",
   "execution_count": 10,
   "id": "4369d78b",
   "metadata": {
    "scrolled": true
   },
   "outputs": [
    {
     "data": {
      "text/plain": [
       "tensor([[[ 52,  72, 154, 174,  87],\n",
       "         [120, 238, 164, 188,   2],\n",
       "         [ 58,  68, 135, 201, 200],\n",
       "         [152,  64,  40, 172,  18],\n",
       "         [ 64, 187, 141,  60, 195]],\n",
       "\n",
       "        [[114,  32, 113, 199, 219],\n",
       "         [107, 170,  67,  80, 105],\n",
       "         [244,  15,  37, 163, 213],\n",
       "         [118, 130, 225, 156,  61],\n",
       "         [108, 177, 127, 135,  12]],\n",
       "\n",
       "        [[193,  51, 220, 150, 232],\n",
       "         [  1, 178, 174, 228, 237],\n",
       "         [ 44,  16, 219,  12, 142],\n",
       "         [188,  61,  34, 190, 189],\n",
       "         [221,   5, 245,   2,  91]]])"
      ]
     },
     "execution_count": 10,
     "metadata": {},
     "output_type": "execute_result"
    }
   ],
   "source": [
    "a = torch.LongTensor(a)\n",
    "a"
   ]
  },
  {
   "cell_type": "markdown",
   "id": "50fde192",
   "metadata": {},
   "source": [
    "## Shape"
   ]
  },
  {
   "cell_type": "code",
   "execution_count": 11,
   "id": "1372f4a9",
   "metadata": {},
   "outputs": [
    {
     "data": {
      "text/plain": [
       "torch.Size([3, 5, 5])"
      ]
     },
     "execution_count": 11,
     "metadata": {},
     "output_type": "execute_result"
    }
   ],
   "source": [
    "a.shape\n",
    "# 3,5,5 adalah channel, height, width. harus dirubah ke nchw(data,channel,height,width) agar dapat diterima pytorch"
   ]
  },
  {
   "cell_type": "markdown",
   "id": "b717badc",
   "metadata": {},
   "source": [
    "## Reshape"
   ]
  },
  {
   "cell_type": "code",
   "execution_count": 14,
   "id": "86a4e6da",
   "metadata": {},
   "outputs": [
    {
     "data": {
      "text/plain": [
       "tensor([[ 52,  72, 154, 174,  87, 120, 238, 164, 188,   2,  58,  68, 135, 201,\n",
       "         200, 152,  64,  40, 172,  18,  64, 187, 141,  60, 195],\n",
       "        [114,  32, 113, 199, 219, 107, 170,  67,  80, 105, 244,  15,  37, 163,\n",
       "         213, 118, 130, 225, 156,  61, 108, 177, 127, 135,  12],\n",
       "        [193,  51, 220, 150, 232,   1, 178, 174, 228, 237,  44,  16, 219,  12,\n",
       "         142, 188,  61,  34, 190, 189, 221,   5, 245,   2,  91]])"
      ]
     },
     "execution_count": 14,
     "metadata": {},
     "output_type": "execute_result"
    }
   ],
   "source": [
    "a.reshape(3, 25)"
   ]
  },
  {
   "cell_type": "code",
   "execution_count": 15,
   "id": "f5f6e5e9",
   "metadata": {},
   "outputs": [
    {
     "data": {
      "text/plain": [
       "tensor([[ 52,  72, 154, 174,  87, 120, 238, 164, 188,   2,  58,  68, 135, 201,\n",
       "         200, 152,  64,  40, 172,  18,  64, 187, 141,  60, 195],\n",
       "        [114,  32, 113, 199, 219, 107, 170,  67,  80, 105, 244,  15,  37, 163,\n",
       "         213, 118, 130, 225, 156,  61, 108, 177, 127, 135,  12],\n",
       "        [193,  51, 220, 150, 232,   1, 178, 174, 228, 237,  44,  16, 219,  12,\n",
       "         142, 188,  61,  34, 190, 189, 221,   5, 245,   2,  91]])"
      ]
     },
     "execution_count": 15,
     "metadata": {},
     "output_type": "execute_result"
    }
   ],
   "source": [
    "a.view(3, 25)"
   ]
  },
  {
   "cell_type": "code",
   "execution_count": 17,
   "id": "ff4df96d",
   "metadata": {},
   "outputs": [
    {
     "data": {
      "text/plain": [
       "tensor([[[[ 52,  72, 154, 174,  87],\n",
       "          [120, 238, 164, 188,   2],\n",
       "          [ 58,  68, 135, 201, 200],\n",
       "          [152,  64,  40, 172,  18],\n",
       "          [ 64, 187, 141,  60, 195]],\n",
       "\n",
       "         [[114,  32, 113, 199, 219],\n",
       "          [107, 170,  67,  80, 105],\n",
       "          [244,  15,  37, 163, 213],\n",
       "          [118, 130, 225, 156,  61],\n",
       "          [108, 177, 127, 135,  12]],\n",
       "\n",
       "         [[193,  51, 220, 150, 232],\n",
       "          [  1, 178, 174, 228, 237],\n",
       "          [ 44,  16, 219,  12, 142],\n",
       "          [188,  61,  34, 190, 189],\n",
       "          [221,   5, 245,   2,  91]]]])"
      ]
     },
     "execution_count": 17,
     "metadata": {},
     "output_type": "execute_result"
    }
   ],
   "source": [
    "# NCHW (4 dimensi) sesuai dengan format pytorch\n",
    "a = a.view(1, 3, 5,5)\n",
    "a"
   ]
  },
  {
   "cell_type": "code",
   "execution_count": 18,
   "id": "cde758e8",
   "metadata": {},
   "outputs": [
    {
     "data": {
      "text/plain": [
       "torch.Size([1, 3, 5, 5])"
      ]
     },
     "execution_count": 18,
     "metadata": {},
     "output_type": "execute_result"
    }
   ],
   "source": [
    "a.shape"
   ]
  },
  {
   "cell_type": "markdown",
   "id": "da167978",
   "metadata": {},
   "source": [
    "## convert dari torch tensor ke numpy array"
   ]
  },
  {
   "cell_type": "code",
   "execution_count": 19,
   "id": "1f61a429",
   "metadata": {},
   "outputs": [
    {
     "data": {
      "text/plain": [
       "array([[[[ 52,  72, 154, 174,  87],\n",
       "         [120, 238, 164, 188,   2],\n",
       "         [ 58,  68, 135, 201, 200],\n",
       "         [152,  64,  40, 172,  18],\n",
       "         [ 64, 187, 141,  60, 195]],\n",
       "\n",
       "        [[114,  32, 113, 199, 219],\n",
       "         [107, 170,  67,  80, 105],\n",
       "         [244,  15,  37, 163, 213],\n",
       "         [118, 130, 225, 156,  61],\n",
       "         [108, 177, 127, 135,  12]],\n",
       "\n",
       "        [[193,  51, 220, 150, 232],\n",
       "         [  1, 178, 174, 228, 237],\n",
       "         [ 44,  16, 219,  12, 142],\n",
       "         [188,  61,  34, 190, 189],\n",
       "         [221,   5, 245,   2,  91]]]], dtype=int64)"
      ]
     },
     "execution_count": 19,
     "metadata": {},
     "output_type": "execute_result"
    }
   ],
   "source": [
    "a.numpy()"
   ]
  },
  {
   "cell_type": "code",
   "execution_count": 23,
   "id": "be62cb8f",
   "metadata": {},
   "outputs": [
    {
     "data": {
      "text/plain": [
       "[[[[52, 72, 154, 174, 87],\n",
       "   [120, 238, 164, 188, 2],\n",
       "   [58, 68, 135, 201, 200],\n",
       "   [152, 64, 40, 172, 18],\n",
       "   [64, 187, 141, 60, 195]],\n",
       "  [[114, 32, 113, 199, 219],\n",
       "   [107, 170, 67, 80, 105],\n",
       "   [244, 15, 37, 163, 213],\n",
       "   [118, 130, 225, 156, 61],\n",
       "   [108, 177, 127, 135, 12]],\n",
       "  [[193, 51, 220, 150, 232],\n",
       "   [1, 178, 174, 228, 237],\n",
       "   [44, 16, 219, 12, 142],\n",
       "   [188, 61, 34, 190, 189],\n",
       "   [221, 5, 245, 2, 91]]]]"
      ]
     },
     "execution_count": 23,
     "metadata": {},
     "output_type": "execute_result"
    }
   ],
   "source": [
    "# convert to python\n",
    "a.tolist()"
   ]
  },
  {
   "cell_type": "code",
   "execution_count": 25,
   "id": "c029bc6f",
   "metadata": {},
   "outputs": [
    {
     "data": {
      "text/plain": [
       "tensor(5)"
      ]
     },
     "execution_count": 25,
     "metadata": {},
     "output_type": "execute_result"
    }
   ],
   "source": [
    "a = demo.example_data_2\n",
    "a"
   ]
  },
  {
   "cell_type": "code",
   "execution_count": 26,
   "id": "933975d9",
   "metadata": {},
   "outputs": [
    {
     "data": {
      "text/plain": [
       "5"
      ]
     },
     "execution_count": 26,
     "metadata": {},
     "output_type": "execute_result"
    }
   ],
   "source": [
    "a.item()"
   ]
  }
 ],
 "metadata": {
  "kernelspec": {
   "display_name": "Python [conda env:jcopdl]",
   "language": "python",
   "name": "conda-env-jcopdl-py"
  },
  "language_info": {
   "codemirror_mode": {
    "name": "ipython",
    "version": 3
   },
   "file_extension": ".py",
   "mimetype": "text/x-python",
   "name": "python",
   "nbconvert_exporter": "python",
   "pygments_lexer": "ipython3",
   "version": "3.7.6"
  },
  "varInspector": {
   "cols": {
    "lenName": 16,
    "lenType": 16,
    "lenVar": 40
   },
   "kernels_config": {
    "python": {
     "delete_cmd_postfix": "",
     "delete_cmd_prefix": "del ",
     "library": "var_list.py",
     "varRefreshCmd": "print(var_dic_list())"
    },
    "r": {
     "delete_cmd_postfix": ") ",
     "delete_cmd_prefix": "rm(",
     "library": "var_list.r",
     "varRefreshCmd": "cat(var_dic_list()) "
    }
   },
   "types_to_exclude": [
    "module",
    "function",
    "builtin_function_or_method",
    "instance",
    "_Feature"
   ],
   "window_display": false
  }
 },
 "nbformat": 4,
 "nbformat_minor": 5
}
