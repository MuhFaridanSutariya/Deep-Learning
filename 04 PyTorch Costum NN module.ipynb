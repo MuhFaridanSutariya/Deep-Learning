{
 "cells": [
  {
   "cell_type": "code",
   "execution_count": 2,
   "id": "86ef4ccb",
   "metadata": {},
   "outputs": [],
   "source": [
    "import torch\n",
    "from torch import nn"
   ]
  },
  {
   "cell_type": "code",
   "execution_count": 3,
   "id": "aa5a46fa",
   "metadata": {},
   "outputs": [],
   "source": [
    "??nn.Module"
   ]
  },
  {
   "cell_type": "code",
   "execution_count": 13,
   "id": "1cdf66e6",
   "metadata": {},
   "outputs": [],
   "source": [
    "# jika ingin melakukan yang squential / berurut \n",
    "class CustomNN(nn.Module):\n",
    "    def __init__(self, input_size, output_size) :\n",
    "        super().__init__()\n",
    "        self.fc = nn.Sequential(\n",
    "            nn.Linear(input_size, 16),\n",
    "            nn.ReLU(),\n",
    "            nn.Linear(16, 8),\n",
    "            nn.ReLU(),\n",
    "            nn.Linear(8, output_size),\n",
    "            nn.Sigmoid()\n",
    "        )\n",
    "    def forward(self, x) :\n",
    "        return self.fc(x)"
   ]
  },
  {
   "cell_type": "code",
   "execution_count": 14,
   "id": "efe6770c",
   "metadata": {},
   "outputs": [],
   "source": [
    "# jika ingin melakukan yang tidak squential / tidak berurut. Multitask(klasifikasi, regresi)\n",
    "class FaceBiometric(nn.Module):\n",
    "    def __init__(self, input_size, output_size) :\n",
    "        super().__init__()\n",
    "        self.fc = nn.Sequential(\n",
    "            nn.Linear(input_size, 16),\n",
    "            nn.ReLU()\n",
    "        )\n",
    "        \n",
    "        self.reg = nn.Linear(16, 8) #karena regressi menggunakan fungsi aktivasi indentity maka dapat ditulis langsung\n",
    "        self.clf = nn.squential(\n",
    "            nn.Linear(16,4),\n",
    "            nn.Sigmoid()\n",
    "        )\n",
    "        \n",
    "    def forward(self, x) :\n",
    "        return self.fc(x)\n",
    "        pred_reg = self.reg(x)\n",
    "        pred_clf = self.clf(x)\n",
    "        return pred_reg, pred_clf "
   ]
  },
  {
   "cell_type": "code",
   "execution_count": 15,
   "id": "030b4afc",
   "metadata": {},
   "outputs": [],
   "source": [
    "model = CustomNN(7, 1)"
   ]
  },
  {
   "cell_type": "code",
   "execution_count": 16,
   "id": "7093a71c",
   "metadata": {},
   "outputs": [],
   "source": [
    "data = torch.rand(100, 7)"
   ]
  },
  {
   "cell_type": "code",
   "execution_count": 17,
   "id": "65523252",
   "metadata": {},
   "outputs": [
    {
     "data": {
      "text/plain": [
       "tensor([[0.5587],\n",
       "        [0.5606],\n",
       "        [0.5609],\n",
       "        [0.5639],\n",
       "        [0.5632],\n",
       "        [0.5608],\n",
       "        [0.5657],\n",
       "        [0.5657],\n",
       "        [0.5678],\n",
       "        [0.5613],\n",
       "        [0.5627],\n",
       "        [0.5616],\n",
       "        [0.5627],\n",
       "        [0.5614],\n",
       "        [0.5617],\n",
       "        [0.5652],\n",
       "        [0.5601],\n",
       "        [0.5661],\n",
       "        [0.5625],\n",
       "        [0.5611],\n",
       "        [0.5619],\n",
       "        [0.5580],\n",
       "        [0.5645],\n",
       "        [0.5667],\n",
       "        [0.5630],\n",
       "        [0.5690],\n",
       "        [0.5589],\n",
       "        [0.5591],\n",
       "        [0.5632],\n",
       "        [0.5582],\n",
       "        [0.5684],\n",
       "        [0.5653],\n",
       "        [0.5619],\n",
       "        [0.5624],\n",
       "        [0.5631],\n",
       "        [0.5629],\n",
       "        [0.5631],\n",
       "        [0.5599],\n",
       "        [0.5626],\n",
       "        [0.5664],\n",
       "        [0.5592],\n",
       "        [0.5627],\n",
       "        [0.5582],\n",
       "        [0.5615],\n",
       "        [0.5703],\n",
       "        [0.5604],\n",
       "        [0.5609],\n",
       "        [0.5625],\n",
       "        [0.5578],\n",
       "        [0.5661],\n",
       "        [0.5637],\n",
       "        [0.5610],\n",
       "        [0.5688],\n",
       "        [0.5625],\n",
       "        [0.5623],\n",
       "        [0.5579],\n",
       "        [0.5700],\n",
       "        [0.5625],\n",
       "        [0.5607],\n",
       "        [0.5665],\n",
       "        [0.5647],\n",
       "        [0.5640],\n",
       "        [0.5613],\n",
       "        [0.5598],\n",
       "        [0.5625],\n",
       "        [0.5613],\n",
       "        [0.5612],\n",
       "        [0.5643],\n",
       "        [0.5621],\n",
       "        [0.5592],\n",
       "        [0.5676],\n",
       "        [0.5614],\n",
       "        [0.5588],\n",
       "        [0.5633],\n",
       "        [0.5712],\n",
       "        [0.5633],\n",
       "        [0.5689],\n",
       "        [0.5635],\n",
       "        [0.5619],\n",
       "        [0.5634],\n",
       "        [0.5614],\n",
       "        [0.5614],\n",
       "        [0.5599],\n",
       "        [0.5734],\n",
       "        [0.5635],\n",
       "        [0.5608],\n",
       "        [0.5604],\n",
       "        [0.5608],\n",
       "        [0.5594],\n",
       "        [0.5657],\n",
       "        [0.5601],\n",
       "        [0.5597],\n",
       "        [0.5650],\n",
       "        [0.5644],\n",
       "        [0.5747],\n",
       "        [0.5597],\n",
       "        [0.5611],\n",
       "        [0.5622],\n",
       "        [0.5624],\n",
       "        [0.5626]], grad_fn=<SigmoidBackward>)"
      ]
     },
     "execution_count": 17,
     "metadata": {},
     "output_type": "execute_result"
    }
   ],
   "source": [
    "output = model(data)\n",
    "output"
   ]
  }
 ],
 "metadata": {
  "kernelspec": {
   "display_name": "Python [conda env:jcopdl]",
   "language": "python",
   "name": "conda-env-jcopdl-py"
  },
  "language_info": {
   "codemirror_mode": {
    "name": "ipython",
    "version": 3
   },
   "file_extension": ".py",
   "mimetype": "text/x-python",
   "name": "python",
   "nbconvert_exporter": "python",
   "pygments_lexer": "ipython3",
   "version": "3.7.6"
  },
  "varInspector": {
   "cols": {
    "lenName": 16,
    "lenType": 16,
    "lenVar": 40
   },
   "kernels_config": {
    "python": {
     "delete_cmd_postfix": "",
     "delete_cmd_prefix": "del ",
     "library": "var_list.py",
     "varRefreshCmd": "print(var_dic_list())"
    },
    "r": {
     "delete_cmd_postfix": ") ",
     "delete_cmd_prefix": "rm(",
     "library": "var_list.r",
     "varRefreshCmd": "cat(var_dic_list()) "
    }
   },
   "types_to_exclude": [
    "module",
    "function",
    "builtin_function_or_method",
    "instance",
    "_Feature"
   ],
   "window_display": false
  }
 },
 "nbformat": 4,
 "nbformat_minor": 5
}
